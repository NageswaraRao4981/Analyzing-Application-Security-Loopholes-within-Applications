{
 "cells": [
  {
   "cell_type": "code",
   "execution_count": 1,
   "metadata": {},
   "outputs": [
    {
     "name": "stdout",
     "output_type": "stream",
     "text": [
      "Requirement already satisfied: scikit-plot in c:\\anaconda python\\data\\lib\\site-packages (0.3.7)\n",
      "Requirement already satisfied: joblib>=0.10 in c:\\anaconda python\\data\\lib\\site-packages (from scikit-plot) (0.13.2)\n",
      "Requirement already satisfied: matplotlib>=1.4.0 in c:\\anaconda python\\data\\lib\\site-packages (from scikit-plot) (3.1.3)\n",
      "Requirement already satisfied: scipy>=0.9 in c:\\anaconda python\\data\\lib\\site-packages (from scikit-plot) (1.3.1)\n",
      "Requirement already satisfied: scikit-learn>=0.18 in c:\\anaconda python\\data\\lib\\site-packages (from scikit-plot) (0.21.3)\n",
      "Requirement already satisfied: python-dateutil>=2.1 in c:\\anaconda python\\data\\lib\\site-packages (from matplotlib>=1.4.0->scikit-plot) (2.8.0)\n",
      "Requirement already satisfied: kiwisolver>=1.0.1 in c:\\anaconda python\\data\\lib\\site-packages (from matplotlib>=1.4.0->scikit-plot) (1.1.0)\n",
      "Requirement already satisfied: pyparsing!=2.0.4,!=2.1.2,!=2.1.6,>=2.0.1 in c:\\anaconda python\\data\\lib\\site-packages (from matplotlib>=1.4.0->scikit-plot) (2.4.2)\n",
      "Requirement already satisfied: numpy>=1.11 in c:\\anaconda python\\data\\lib\\site-packages (from matplotlib>=1.4.0->scikit-plot) (1.16.5)\n",
      "Requirement already satisfied: cycler>=0.10 in c:\\anaconda python\\data\\lib\\site-packages (from matplotlib>=1.4.0->scikit-plot) (0.10.0)\n",
      "Requirement already satisfied: six>=1.5 in c:\\anaconda python\\data\\lib\\site-packages (from python-dateutil>=2.1->matplotlib>=1.4.0->scikit-plot) (1.12.0)\n",
      "Requirement already satisfied: setuptools in c:\\anaconda python\\data\\lib\\site-packages (from kiwisolver>=1.0.1->matplotlib>=1.4.0->scikit-plot) (41.4.0)\n"
     ]
    }
   ],
   "source": [
    "!pip install scikit-plot"
   ]
  },
  {
   "cell_type": "code",
   "execution_count": 2,
   "metadata": {},
   "outputs": [
    {
     "data": {
      "text/html": [
       "<div>\n",
       "<style scoped>\n",
       "    .dataframe tbody tr th:only-of-type {\n",
       "        vertical-align: middle;\n",
       "    }\n",
       "\n",
       "    .dataframe tbody tr th {\n",
       "        vertical-align: top;\n",
       "    }\n",
       "\n",
       "    .dataframe thead th {\n",
       "        text-align: right;\n",
       "    }\n",
       "</style>\n",
       "<table border=\"1\" class=\"dataframe\">\n",
       "  <thead>\n",
       "    <tr style=\"text-align: right;\">\n",
       "      <th></th>\n",
       "      <th>Flow ID</th>\n",
       "      <th>Source IP</th>\n",
       "      <th>Source Port</th>\n",
       "      <th>Destination IP</th>\n",
       "      <th>Destination Port</th>\n",
       "      <th>Protocol</th>\n",
       "      <th>Timestamp</th>\n",
       "      <th>Flow Duration</th>\n",
       "      <th>Total Fwd Packets</th>\n",
       "      <th>Total Backward Packets</th>\n",
       "      <th>...</th>\n",
       "      <th>Active Mean</th>\n",
       "      <th>Active Std</th>\n",
       "      <th>Active Max</th>\n",
       "      <th>Active Min</th>\n",
       "      <th>Idle Mean</th>\n",
       "      <th>Idle Std</th>\n",
       "      <th>Idle Max</th>\n",
       "      <th>Idle Min</th>\n",
       "      <th>Label</th>\n",
       "      <th>Original_label</th>\n",
       "    </tr>\n",
       "  </thead>\n",
       "  <tbody>\n",
       "    <tr>\n",
       "      <td>0</td>\n",
       "      <td>200926</td>\n",
       "      <td>12</td>\n",
       "      <td>40474</td>\n",
       "      <td>2014</td>\n",
       "      <td>443</td>\n",
       "      <td>6</td>\n",
       "      <td>07-05-2017 08:53</td>\n",
       "      <td>70130200</td>\n",
       "      <td>11</td>\n",
       "      <td>12</td>\n",
       "      <td>...</td>\n",
       "      <td>617212.0</td>\n",
       "      <td>0.0</td>\n",
       "      <td>617212</td>\n",
       "      <td>617212</td>\n",
       "      <td>69371900</td>\n",
       "      <td>0.0</td>\n",
       "      <td>69371900</td>\n",
       "      <td>69371900</td>\n",
       "      <td>37</td>\n",
       "      <td>SMSMALWARE_FAKEMART</td>\n",
       "    </tr>\n",
       "    <tr>\n",
       "      <td>1</td>\n",
       "      <td>255471</td>\n",
       "      <td>13</td>\n",
       "      <td>34095</td>\n",
       "      <td>2894</td>\n",
       "      <td>443</td>\n",
       "      <td>6</td>\n",
       "      <td>28-08-2017 10:16</td>\n",
       "      <td>20002200</td>\n",
       "      <td>8</td>\n",
       "      <td>13</td>\n",
       "      <td>...</td>\n",
       "      <td>162421.0</td>\n",
       "      <td>0.0</td>\n",
       "      <td>162421</td>\n",
       "      <td>162421</td>\n",
       "      <td>19839800</td>\n",
       "      <td>0.0</td>\n",
       "      <td>19839800</td>\n",
       "      <td>19839800</td>\n",
       "      <td>20</td>\n",
       "      <td>RANSOMWARE_SVPENG</td>\n",
       "    </tr>\n",
       "    <tr>\n",
       "      <td>2</td>\n",
       "      <td>57419</td>\n",
       "      <td>11</td>\n",
       "      <td>60228</td>\n",
       "      <td>5590</td>\n",
       "      <td>443</td>\n",
       "      <td>6</td>\n",
       "      <td>30-06-2017 01:11</td>\n",
       "      <td>63</td>\n",
       "      <td>1</td>\n",
       "      <td>1</td>\n",
       "      <td>...</td>\n",
       "      <td>0.0</td>\n",
       "      <td>0.0</td>\n",
       "      <td>0</td>\n",
       "      <td>0</td>\n",
       "      <td>0</td>\n",
       "      <td>0.0</td>\n",
       "      <td>0</td>\n",
       "      <td>0</td>\n",
       "      <td>36</td>\n",
       "      <td>SMSMALWARE_FAKEINST</td>\n",
       "    </tr>\n",
       "    <tr>\n",
       "      <td>3</td>\n",
       "      <td>106254</td>\n",
       "      <td>12</td>\n",
       "      <td>54188</td>\n",
       "      <td>698</td>\n",
       "      <td>80</td>\n",
       "      <td>6</td>\n",
       "      <td>20-06-2017 03:31</td>\n",
       "      <td>23445200</td>\n",
       "      <td>2</td>\n",
       "      <td>0</td>\n",
       "      <td>...</td>\n",
       "      <td>0.0</td>\n",
       "      <td>0.0</td>\n",
       "      <td>0</td>\n",
       "      <td>0</td>\n",
       "      <td>0</td>\n",
       "      <td>0.0</td>\n",
       "      <td>0</td>\n",
       "      <td>0</td>\n",
       "      <td>10</td>\n",
       "      <td>BENIGN</td>\n",
       "    </tr>\n",
       "    <tr>\n",
       "      <td>4</td>\n",
       "      <td>188352</td>\n",
       "      <td>12</td>\n",
       "      <td>46137</td>\n",
       "      <td>1934</td>\n",
       "      <td>443</td>\n",
       "      <td>6</td>\n",
       "      <td>27-06-2017 06:02</td>\n",
       "      <td>36938</td>\n",
       "      <td>1</td>\n",
       "      <td>1</td>\n",
       "      <td>...</td>\n",
       "      <td>0.0</td>\n",
       "      <td>0.0</td>\n",
       "      <td>0</td>\n",
       "      <td>0</td>\n",
       "      <td>0</td>\n",
       "      <td>0.0</td>\n",
       "      <td>0</td>\n",
       "      <td>0</td>\n",
       "      <td>33</td>\n",
       "      <td>SCAREWARE_VIRUSSHIELD</td>\n",
       "    </tr>\n",
       "  </tbody>\n",
       "</table>\n",
       "<p>5 rows × 74 columns</p>\n",
       "</div>"
      ],
      "text/plain": [
       "   Flow ID  Source IP  Source Port  Destination IP  Destination Port  \\\n",
       "0   200926         12        40474            2014               443   \n",
       "1   255471         13        34095            2894               443   \n",
       "2    57419         11        60228            5590               443   \n",
       "3   106254         12        54188             698                80   \n",
       "4   188352         12        46137            1934               443   \n",
       "\n",
       "   Protocol         Timestamp  Flow Duration  Total Fwd Packets  \\\n",
       "0         6  07-05-2017 08:53       70130200                 11   \n",
       "1         6  28-08-2017 10:16       20002200                  8   \n",
       "2         6  30-06-2017 01:11             63                  1   \n",
       "3         6  20-06-2017 03:31       23445200                  2   \n",
       "4         6  27-06-2017 06:02          36938                  1   \n",
       "\n",
       "   Total Backward Packets  ...  Active Mean  Active Std  Active Max  \\\n",
       "0                      12  ...     617212.0         0.0      617212   \n",
       "1                      13  ...     162421.0         0.0      162421   \n",
       "2                       1  ...          0.0         0.0           0   \n",
       "3                       0  ...          0.0         0.0           0   \n",
       "4                       1  ...          0.0         0.0           0   \n",
       "\n",
       "   Active Min  Idle Mean  Idle Std  Idle Max  Idle Min  Label  \\\n",
       "0      617212   69371900       0.0  69371900  69371900     37   \n",
       "1      162421   19839800       0.0  19839800  19839800     20   \n",
       "2           0          0       0.0         0         0     36   \n",
       "3           0          0       0.0         0         0     10   \n",
       "4           0          0       0.0         0         0     33   \n",
       "\n",
       "          Original_label  \n",
       "0    SMSMALWARE_FAKEMART  \n",
       "1      RANSOMWARE_SVPENG  \n",
       "2    SMSMALWARE_FAKEINST  \n",
       "3                 BENIGN  \n",
       "4  SCAREWARE_VIRUSSHIELD  \n",
       "\n",
       "[5 rows x 74 columns]"
      ]
     },
     "execution_count": 2,
     "metadata": {},
     "output_type": "execute_result"
    }
   ],
   "source": [
    "import numpy as np\n",
    "import pandas as pd\n",
    "import pickle\n",
    "%matplotlib inline\n",
    "\n",
    "df = pd.read_csv('Dataset.csv')\n",
    "df.head()"
   ]
  },
  {
   "cell_type": "code",
   "execution_count": 3,
   "metadata": {},
   "outputs": [
    {
     "data": {
      "text/plain": [
       "(18851, 74)"
      ]
     },
     "execution_count": 3,
     "metadata": {},
     "output_type": "execute_result"
    }
   ],
   "source": [
    "df.shape"
   ]
  },
  {
   "cell_type": "code",
   "execution_count": 4,
   "metadata": {},
   "outputs": [
    {
     "data": {
      "text/plain": [
       "Flow ID             0\n",
       "Source IP           0\n",
       "Source Port         0\n",
       "Destination IP      0\n",
       "Destination Port    0\n",
       "                   ..\n",
       "Idle Std            0\n",
       "Idle Max            0\n",
       "Idle Min            0\n",
       "Label               0\n",
       "Original_label      0\n",
       "Length: 74, dtype: int64"
      ]
     },
     "execution_count": 4,
     "metadata": {},
     "output_type": "execute_result"
    }
   ],
   "source": [
    "df.isnull().sum()"
   ]
  },
  {
   "cell_type": "code",
   "execution_count": 5,
   "metadata": {},
   "outputs": [],
   "source": [
    "from scikitplot.metrics import plot_precision_recall\n",
    "import matplotlib.pyplot as plt"
   ]
  },
  {
   "cell_type": "code",
   "execution_count": 6,
   "metadata": {},
   "outputs": [],
   "source": [
    "def save_model(model, frs, label, out_dir):\n",
    "    model.fit(frs, label)\n",
    "    pickle.dump(model, open(out_dir,'wb'))"
   ]
  },
  {
   "cell_type": "code",
   "execution_count": 7,
   "metadata": {},
   "outputs": [],
   "source": [
    "def validate(in_dir, X_test, y_test, title):\n",
    "    model = pickle.load(open(in_dir,'rb'))\n",
    "    y_probas = model.predict_proba(X_test)\n",
    "    plot_precision_recall(y_test, y_probas, classes_to_plot=[],\n",
    "                          title=str('Precision-recall curve micro-averaged over all classes for ' + title))\n",
    "    plt.show()"
   ]
  },
  {
   "cell_type": "code",
   "execution_count": 8,
   "metadata": {},
   "outputs": [],
   "source": [
    "from sklearn.model_selection import train_test_split\n",
    "from sklearn import preprocessing"
   ]
  },
  {
   "cell_type": "code",
   "execution_count": 9,
   "metadata": {},
   "outputs": [],
   "source": [
    "all_frs = df[df.columns.difference(['Label', 'Original_label', 'Timestamp'])]"
   ]
  },
  {
   "cell_type": "code",
   "execution_count": 10,
   "metadata": {},
   "outputs": [],
   "source": [
    "X_scaled = preprocessing.scale(all_frs)"
   ]
  },
  {
   "cell_type": "code",
   "execution_count": 11,
   "metadata": {},
   "outputs": [],
   "source": [
    "label = df.Label"
   ]
  },
  {
   "cell_type": "code",
   "execution_count": 12,
   "metadata": {},
   "outputs": [],
   "source": [
    "X_train, X_test, y_train, y_test = train_test_split(X_scaled, label, test_size=0.3)"
   ]
  },
  {
   "cell_type": "code",
   "execution_count": 13,
   "metadata": {},
   "outputs": [],
   "source": [
    "from sklearn.model_selection import GridSearchCV\n",
    "from sklearn.linear_model import LogisticRegression\n",
    "from sklearn.ensemble import BaggingClassifier\n",
    "from sklearn.dummy import DummyClassifier"
   ]
  },
  {
   "cell_type": "code",
   "execution_count": 14,
   "metadata": {},
   "outputs": [],
   "source": [
    "param_grid = {\n",
    "    'max_features' : [0.5,0.75,1.0],\n",
    "    'bootstrap' : [True, False],\n",
    "    'bootstrap_features' : [True, False]\n",
    "}"
   ]
  },
  {
   "cell_type": "code",
   "execution_count": null,
   "metadata": {},
   "outputs": [],
   "source": [
    "CV_bagging = GridSearchCV(estimator=BaggingClassifier(), param_grid=param_grid, cv=5)\n",
    "CV_bagging.fit(X_train, y_train)"
   ]
  },
  {
   "cell_type": "code",
   "execution_count": null,
   "metadata": {},
   "outputs": [],
   "source": [
    "CV_bagging.best_params_"
   ]
  },
  {
   "cell_type": "code",
   "execution_count": null,
   "metadata": {},
   "outputs": [],
   "source": [
    "models = [(DummyClassifier(strategy=\"most_frequent\"), 'baseline.pkl', 'Zero R'),\n",
    "          (BaggingClassifier(bootstrap = False, bootstrap_features = True), 'bagging.pkl', 'Bagging classifier')\n",
    "         ]"
   ]
  },
  {
   "cell_type": "code",
   "execution_count": null,
   "metadata": {},
   "outputs": [],
   "source": [
    "for clr, out_dir, _ in models:    \n",
    "    save_model(clr, X_train, y_train, out_dir)"
   ]
  },
  {
   "cell_type": "code",
   "execution_count": null,
   "metadata": {},
   "outputs": [],
   "source": [
    "for _, in_dir, title in models:    \n",
    "    validate(in_dir, X_test, y_test, title)"
   ]
  },
  {
   "cell_type": "code",
   "execution_count": null,
   "metadata": {},
   "outputs": [],
   "source": [
    "from scikitplot.estimators import plot_learning_curve"
   ]
  },
  {
   "cell_type": "code",
   "execution_count": null,
   "metadata": {},
   "outputs": [],
   "source": [
    "for clr,  out_dir, _ in models:    \n",
    "    plot_learning_curve(clr, X_train, y_train)\n"
   ]
  },
  {
   "cell_type": "code",
   "execution_count": null,
   "metadata": {},
   "outputs": [],
   "source": [
    "for clr,  out_dir, _ in models:    \n",
    "    plot_learning_curve(clr, X_test, y_test)"
   ]
  },
  {
   "cell_type": "code",
   "execution_count": null,
   "metadata": {},
   "outputs": [],
   "source": []
  }
 ],
 "metadata": {
  "kernelspec": {
   "display_name": "Python 3",
   "language": "python",
   "name": "python3"
  },
  "language_info": {
   "codemirror_mode": {
    "name": "ipython",
    "version": 3
   },
   "file_extension": ".py",
   "mimetype": "text/x-python",
   "name": "python",
   "nbconvert_exporter": "python",
   "pygments_lexer": "ipython3",
   "version": "3.7.4"
  }
 },
 "nbformat": 4,
 "nbformat_minor": 4
}
